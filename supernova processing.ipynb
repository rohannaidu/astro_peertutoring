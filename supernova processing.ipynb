{
 "cells": [
  {
   "cell_type": "code",
   "execution_count": 15,
   "metadata": {
    "collapsed": true
   },
   "outputs": [],
   "source": [
    "from astropy.coordinates import SkyCoord  # High-level coordinates\n",
    "from astropy.coordinates import ICRS, Galactic, FK4, FK5  # Low-level frames\n",
    "from astropy.coordinates import Angle, Latitude, Longitude  # Angles\n",
    "import astropy.units as u\n",
    "from photutils import SkyCircularAperture, SkyCircularAnnulus\n",
    "import numpy as np\n",
    "%matplotlib inline\n",
    "import matplotlib.pyplot as plt\n",
    "import glob\n",
    "from astropy.io import fits\n",
    "from matplotlib.colors import LogNorm\n",
    "from astropy.wcs import WCS\n",
    "from pyspherematch import *\n",
    "from photutils import CircularAperture, aperture_photometry, background"
   ]
  },
  {
   "cell_type": "markdown",
   "metadata": {},
   "source": [
    "<b> LCRO Images </b>"
   ]
  },
  {
   "cell_type": "code",
   "execution_count": 16,
   "metadata": {
    "collapsed": false
   },
   "outputs": [],
   "source": [
    "file_list =  glob.glob(\"../../../Dropbox/LCRO_Images_Sem2_2016-17/Mar_13_SN_NGC5643/SNNGC5643*\")"
   ]
  },
  {
   "cell_type": "code",
   "execution_count": 17,
   "metadata": {
    "collapsed": false
   },
   "outputs": [],
   "source": [
    "hdu_list = fits.open(file_list[1])\n",
    "header = fits.getheader(file_list[1])\n",
    "image_data = hdu_list[0].data\n",
    "w = WCS(header)\n",
    "hdu_list.close()"
   ]
  },
  {
   "cell_type": "code",
   "execution_count": 26,
   "metadata": {
    "collapsed": false
   },
   "outputs": [
    {
     "data": {
      "text/html": [
       "&lt;QTable length=1&gt;\n",
       "<table id=\"table156779688\">\n",
       "<thead><tr><th>id</th><th>xcenter</th><th>ycenter</th><th>celestial_center</th><th>aperture_sum_0</th><th>aperture_sum_1</th><th>residual_aperture_sum</th></tr></thead>\n",
       "<thead><tr><th></th><th>pix</th><th>pix</th><th>deg,deg</th><th></th><th></th><th></th></tr></thead>\n",
       "<thead><tr><th>int32</th><th>float64</th><th>float64</th><th>object</th><th>float64</th><th>float64</th><th>float64</th></tr></thead>\n",
       "<tr><td>1</td><td>2131.39175954</td><td>1856.37279665</td><td>218.14349,-44.134039</td><td>376464.982656</td><td>41697.2245667</td><td>177906.770433</td></tr>\n",
       "</table>"
      ],
      "text/plain": [
       "<QTable length=1>\n",
       "  id     xcenter       ycenter    ... aperture_sum_1 residual_aperture_sum\n",
       "           pix           pix      ...                                     \n",
       "int32    float64       float64    ...    float64            float64       \n",
       "----- ------------- ------------- ... -------------- ---------------------\n",
       "    1 2131.39175954 1856.37279665 ...  41697.2245667         177906.770433"
      ]
     },
     "execution_count": 26,
     "metadata": {},
     "output_type": "execute_result"
    }
   ],
   "source": [
    "star_coords = SkyCoord( [218.14349] , [-44.134039] ,unit=\"deg\" , frame='fk5')\n",
    "apertures = SkyCircularAperture(star_coords, r=3* u.arcsec)\n",
    "annulus_apertures = SkyCircularAnnulus(star_coords, r_in =3* u.arcsec, r_out =3.3* u.arcsec)\n",
    "apers = [apertures, annulus_apertures]\n",
    "\n",
    "\n",
    "phot_table = aperture_photometry(image_data, apers, wcs=w)\n",
    "bkg_mean = phot_table['aperture_sum_1'] / annulus_apertures.to_pixel(w).area()\n",
    "bkg_sum = bkg_mean * apertures.to_pixel(w).area()\n",
    "final_sum = phot_table['aperture_sum_0'] - bkg_sum\n",
    "phot_table['residual_aperture_sum'] = final_sum\n",
    "phot_table"
   ]
  },
  {
   "cell_type": "code",
   "execution_count": 8,
   "metadata": {
    "collapsed": false
   },
   "outputs": [],
   "source": [
    "inst_mag = -2.5*np.log10(final_sum[0]/header['EXPTIME'])\n",
    "jdate = header['JD']\n",
    "exptime = header['EXPTIME']\n",
    "filter_type = header['FILTER']"
   ]
  },
  {
   "cell_type": "code",
   "execution_count": 27,
   "metadata": {
    "collapsed": true
   },
   "outputs": [],
   "source": [
    "star_coords = SkyCoord( [218.14349] , [-44.134039] ,unit=\"deg\" , frame='fk5')\n",
    "apertures = SkyCircularAperture(star_coords, r=3* u.arcsec)\n",
    "annulus_apertures = SkyCircularAnnulus(star_coords, r_in =3* u.arcsec, r_out =3.3* u.arcsec)\n",
    "apers = [apertures, annulus_apertures]\n",
    "\n",
    "\n",
    "inst_mag, jdate, exptime, filter_type = [], [] , [], []\n",
    "\n",
    "for file_name in file_list:\n",
    "    hdu_list = fits.open(file_name)\n",
    "    header = fits.getheader(file_name)\n",
    "    image_data = hdu_list[0].data\n",
    "    w = WCS(header)\n",
    "    hdu_list.close()\n",
    "    \n",
    "    phot_table = aperture_photometry(image_data, apers, wcs=w)\n",
    "    bkg_mean = phot_table['aperture_sum_1'] / annulus_apertures.to_pixel(w).area()\n",
    "    bkg_sum = bkg_mean * apertures.to_pixel(w).area()\n",
    "    final_sum = phot_table['aperture_sum_0'] - bkg_sum\n",
    "\n",
    "    inst_mag.append(-2.5*np.log10(final_sum[0]/header['EXPTIME']))\n",
    "    jdate.append(header['JD'])\n",
    "    exptime.append(header['EXPTIME'])\n",
    "    filter_type.append(header['FILTER'])"
   ]
  },
  {
   "cell_type": "code",
   "execution_count": 28,
   "metadata": {
    "collapsed": false
   },
   "outputs": [
    {
     "data": {
      "text/plain": [
       "(13.8, 14.6)"
      ]
     },
     "execution_count": 28,
     "metadata": {},
     "output_type": "execute_result"
    },
    {
     "data": {
      "image/png": "[encoded data removed]",
      "text/plain": [
       "<matplotlib.figure.Figure at 0x8fdfbe0>"
      ]
     },
     "metadata": {},
     "output_type": "display_data"
    }
   ],
   "source": [
    "lcro_filters = ['g', 'r','i','H-Alpha']\n",
    "lcro_zps = [20.10813, 19.78286, 19.0887, 0]\n",
    "lcro_zpsfilters_dict = dict(zip(lcro_filters, lcro_zps))\n",
    "\n",
    "corr_mag = [x+lcro_zpsfilters_dict.get(y) for x,y in zip(inst_mag, filter_type)]\n",
    "\n",
    "plt.scatter(jdate, corr_mag, color=['green' if x=='g' else 'black' if x=='i' else 'red' if x=='r' else 'cyan' for x in filter_type])\n",
    "plt.xlabel(\"Julian Date\")\n",
    "plt.ylabel(\"Mags with zero point included\")\n",
    "plt.ylim(13.8, 14.6)"
   ]
  },
  {
   "cell_type": "code",
   "execution_count": 11,
   "metadata": {
    "collapsed": false
   },
   "outputs": [
    {
     "data": {
      "text/plain": [
       "SIMPLE  =                    T                                                  \n",
       "BITPIX  =                   16 /8 unsigned int, 16 & 32 int, -32 & -64 real     \n",
       "NAXIS   =                    2 /number of axes                                  \n",
       "NAXIS1  =                 4096 /fastest changing axis                           \n",
       "NAXIS2  =                 4096 /next to fastest changing axis                   \n",
       "BSCALE  =   1.0000000000000000 /physical = BZERO + BSCALE*array_value           \n",
       "BZERO   =   32768.000000000000 /physical = BZERO + BSCALE*array_value           \n",
       "DATE-OBS= '2017-03-13T09:24:53' / [ISO 8601] UTC date/time of exposure start    \n",
       "EXPTIME =   6.00000000000E+002 / [sec] Duration of exposure                     \n",
       "EXPOSURE=   6.00000000000E+002 / [sec] Duration of exposure                     \n",
       "SET-TEMP=  -30.000000000000000 /CCD temperature setpoint in C                   \n",
       "CCD-TEMP=  -30.000000000000000 /CCD temperature at start of exposure in C       \n",
       "XPIXSZ  =   9.0000000000000000 /Pixel Width in microns (after binning)          \n",
       "YPIXSZ  =   9.0000000000000000 /Pixel Height in microns (after binning)         \n",
       "XBINNING=                    1 / Binning level along the X-axis                 \n",
       "YBINNING=                    1 / Binning level along the Y-axis                 \n",
       "XORGSUBF=                    0 /Subframe X position in binned pixels            \n",
       "YORGSUBF=                    0 /Subframe Y position in binned pixels            \n",
       "READOUTM= '1 MHz (RBI Flood)' / Readout mode of image                           \n",
       "FILTER  = 'r       '           / Filter name                                    \n",
       "IMAGETYP= 'Light Frame' /       Type of image                                   \n",
       "SITELAT = '-29 00 38' /         Latitude of the imaging location                \n",
       "SITELONG= '-70 42 04' /         Longitude of the imaging location               \n",
       "JD      =   2457825.8922800925 /Julian Date at start of exposure                \n",
       "TRAKTIME=   4.0000000000000000 /Exposure time used for autoguiding              \n",
       "FOCALLEN=               2422.0 / Focal length of telescope in mm                \n",
       "APTDIA  =   305.00000000000000 /Aperture diameter of telescope in mm            \n",
       "APTAREA =   73061.666183173656 /Aperture area of telescope in mm^2              \n",
       "SWCREATE= 'MaxIm DL Version 5.24 140817 2P0SJ' /Name of software that created   \n",
       "         the image                                                              \n",
       "SBSTDVER= 'SBFITSEXT Version 1.0' /Version of SBFITSEXT standard in effect      \n",
       "OBJECT  = 'SNNGC5643'          / Target object name                             \n",
       "TELESCOP= 'ACP->AstroPhysicsV2' / Telescope name                                \n",
       "INSTRUME= 'FLI     '           / Detector instrument name                       \n",
       "OBSERVER= 'Public Outreach'    / Observer name                                  \n",
       "NOTES   = '        '                                                            \n",
       "FLIPSTAT= '        '                                                            \n",
       "CSTRETCH= 'Medium  ' /          Initial display stretch mode                    \n",
       "CBLACK  =                 2865 /Initial display black level in ADUs             \n",
       "CWHITE  =                 4749 /Initial display white level in ADUs             \n",
       "PEDESTAL=                    0 /Correction to add for zero-based ADU            \n",
       "SWOWNER = 'Michael Long' /      Licensed owner of software                      \n",
       "JD-OBS  =      2457825.8922801                                                  \n",
       "HJD-OBS =      2457825.8949962                                                  \n",
       "BJD-OBS =      2457825.8957921                                                  \n",
       "OBJCTAZ =             224.6072                                                  \n",
       "AZIMUTH =             224.6072                                                  \n",
       "OBJCTALT=              65.9097                                                  \n",
       "ALTITUDE=              65.9097                                                  \n",
       "OBJCTHA = '01 34 13.70'                                                         \n",
       "HA      = '01 34 13.70'                                                         \n",
       "PIERSIDE= 'EAST    '                                                            \n",
       "READMODE= '1 MHz (RBI Flood)'                                                   \n",
       "AMBTEMP =                   20                                                  \n",
       "HUMIDITY=   0.00000000000E+000 / [%] Ambient atmospheric humidity               \n",
       "DEWPOINT=                   13                                                  \n",
       "WINDSPD =                   17                                                  \n",
       "SKYTEMP =                  -28                                                  \n",
       "HISTORY File was processed by PinPoint 6.1.3 at 2017-03-13T09:36:57             \n",
       "DATE    = '13/03/17'           / [old format] UTC date of exposure start        \n",
       "TIME-OBS= '09:24:53'           / [old format] UTC time of exposure start        \n",
       "UT      = '09:24:53'           / [old format] UTC time of exposure start        \n",
       "TIMESYS = 'UTC     '           / Default time system                            \n",
       "RADECSYS= 'FK5     '           / Equatorial coordinate system                   \n",
       "AIRMASS =   1.11084772172E+000 / Airmass (multiple of zenithal airmass)         \n",
       "ST      = '16 06 54.10'        / Local apparent sidereal time of exp. start     \n",
       "LAT-OBS =  -2.90105555556E+001 / [deg +N WGS84] Geodetic latitude               \n",
       "LONG-OBS=  -7.07010000000E+001 / [deg +E WGS84] Geodetic longitude              \n",
       "ALT-OBS =   2.29500000000E+003 / [metres] Altitude above mean sea level         \n",
       "OBSERVAT= 'LCRO    '           / Observatory name                               \n",
       "RA      = '14 32 40.40'        / [hms J2000] Target right ascension             \n",
       "OBJCTRA = '14 32 40.40'        / [hms J2000] Target right ascension             \n",
       "DEC     = '-44 10 34.0'        / [dms +N J2000] Target declination              \n",
       "OBJCTDEC= '-44 10 34.0'        / [dms +N J2000] Target declination              \n",
       "HISTORY File was processed by PinPoint 6.1.3 at 2017-03-13T09:37:15             \n",
       "FWHM    =   2.39184097052E+000 / [pixels] Mean Full-Width-Half-Max of image star\n",
       "ZMAG    =   2.11222397561E+001 / Mag zero point for 1 sec exposure              \n",
       "EQUINOX =               2000.0 / Equatorial coordinates are J2000               \n",
       "EPOCH   =               2000.0 / (incorrect but needed by old programs)         \n",
       "PA      =   1.79553840034E+002 / [deg, 0-360 CCW] Position angle of plate       \n",
       "CTYPE1  = 'RA---TAN'           / X-axis coordinate type                         \n",
       "CRVAL1  =   2.18169295736E+002 / X-axis coordinate value                        \n",
       "CRPIX1  =   2.04800000000E+003 / X-axis reference pixel                         \n",
       "CDELT1  =   2.12632332837E-004 / [deg/pixel] X-axis plate scale                 \n",
       "CROTA1  =   4.46159965933E-001 / [deg] Roll angle wrt X-axis                    \n",
       "CTYPE2  = 'DEC--TAN'           / Y-axis coordinate type                         \n",
       "CRVAL2  =  -4.41779106757E+001 / Y-axis coordinate value                        \n",
       "CRPIX2  =   2.04800000000E+003 / Y-axis reference pixel                         \n",
       "CDELT2  =   2.12617728279E-004 / [deg/pixel] Y-Axis Plate scale                 \n",
       "CROTA2  =   4.46159965933E-001 / [deg] Roll angle wrt Y-axis                    \n",
       "CD1_1   =   2.12625886203E-004 / Change in RA---TAN along X-Axis                \n",
       "CD1_2   =  -1.65562909751E-006 / Change in RA---TAN along Y-Axis                \n",
       "CD2_1   =   1.65574282147E-006 / Change in DEC--TAN along X-Axis                \n",
       "CD2_2   =   2.12611282087E-004 / Change in DEC--TAN along Y-Axis                \n",
       "TR1_0   =   2.04800000501E+003 / [private] X-axis distortion coefficients       \n",
       "TR1_1   =   4.09599983867E+003                                                  \n",
       "TR1_2   =   2.06426816896E-002                                                  \n",
       "TR1_3   =   1.78751321221E+000                                                  \n",
       "TR1_4   =  -3.72825438879E+000                                                  \n",
       "TR1_5   =   1.80290245859E+000                                                  \n",
       "TR1_6   =  -2.59906509528E+001                                                  \n",
       "TR1_7   =   2.91902011445E+000                                                  \n",
       "TR1_8   =  -2.29523834316E+001                                                  \n",
       "TR1_9   =   1.34714319226E+000                                                  \n",
       "TR1_10  =  -4.01080281953E+000                                                  \n",
       "TR1_11  =   1.42721095395E+001                                                  \n",
       "TR1_12  =  -9.01330464199E+000                                                  \n",
       "TR1_13  =   3.81808634379E+000                                                  \n",
       "TR1_14  =  -3.78324468159E+000                                                  \n",
       "TR2_0   =   2.04800000025E+003 / [private] Y-axis distortion coefficients       \n",
       "TR2_1   =   2.73062866211E-004                                                  \n",
       "TR2_2   =   4.09600016133E+003                                                  \n",
       "TR2_3   =   1.35970432688E+000                                                  \n",
       "TR2_4   =  -2.12769221285E+000                                                  \n",
       "TR2_5   =  -1.68936195019E+000                                                  \n",
       "TR2_6   =   8.13365721087E-001                                                  \n",
       "TR2_7   =  -2.70200392026E+001                                                  \n",
       "TR2_8   =   6.04639267740E-001                                                  \n",
       "TR2_9   =  -2.40068298791E+001                                                  \n",
       "TR2_10  =  -4.23094656951E+000                                                  \n",
       "TR2_11  =   1.01136720574E+001                                                  \n",
       "TR2_12  =  -3.63736391248E+000                                                  \n",
       "TR2_13  =   1.00213276288E+001                                                  \n",
       "TR2_14  =   5.57154840418E+000                                                  \n",
       "HISTORY WCS added by PinPoint 6.1.3 at 2017-03-13T09:37:15                      \n",
       "HISTORY   Matched 274 stars from the Gray GSC-ACT Catalog                       \n",
       "HISTORY   Average residual was 0.29 arc-seconds                                 \n",
       "PLTSOLVD=                    T / Plate has been solved by PinPoint              "
      ]
     },
     "execution_count": 11,
     "metadata": {},
     "output_type": "execute_result"
    }
   ],
   "source": [
    "header"
   ]
  },
  {
   "cell_type": "markdown",
   "metadata": {},
   "source": [
    "<b> TO DO: </b> get zero-points...don't trust Maxim derived points."
   ]
  },
  {
   "cell_type": "markdown",
   "metadata": {},
   "source": [
    "<b> CTIO </b>"
   ]
  },
  {
   "cell_type": "code",
   "execution_count": 33,
   "metadata": {
    "collapsed": true
   },
   "outputs": [],
   "source": [
    "file_list =  glob.glob(\"../../../Dropbox/LCRO_Images_Sem2_2016-17/Mar_14_SN_NGC5643_CTIO/*.fits\")"
   ]
  },
  {
   "cell_type": "code",
   "execution_count": 36,
   "metadata": {
    "collapsed": false
   },
   "outputs": [
    {
     "name": "stderr",
     "output_type": "stream",
     "text": [
      "WARNING: The following header keyword is invalid or follows an unrecognized non-standard convention:\n",
      "PIXXMIT                        / Number of pixels returned per ADC go            [astropy.io.fits.card]\n",
      "WARNING: The following header keyword is invalid or follows an unrecognized non-standard convention:\n",
      "PIXOFFST                       / Valid pixel offset within ADC go                [astropy.io.fits.card]\n"
     ]
    }
   ],
   "source": [
    "file_name = file_list[-1]\n",
    "hdu_list = fits.open(file_name)\n",
    "header = fits.getheader(file_name)\n",
    "image_data = hdu_list[0].data\n",
    "w = WCS(header)\n",
    "hdu_list.close()"
   ]
  },
  {
   "cell_type": "code",
   "execution_count": 37,
   "metadata": {
    "collapsed": false
   },
   "outputs": [
    {
     "data": {
      "text/plain": [
       "SIMPLE  =                    T / Fits standard                                  \n",
       "BITPIX  =                  -32 / Bits per pixel                                 \n",
       "NAXIS   =                    2 / Number of axes                                 \n",
       "NAXIS1  =                 1024 / Axis length                                    \n",
       "NAXIS2  =                 1024 / Axis length                                    \n",
       "EXTEND  =                    F / File may contain extensions                    \n",
       "ORIGIN  = 'NOAO-IRAF FITS Image Kernel July 2003' / FITS file originator        \n",
       "DATE    = '2017-03-14T14:11:51' / Date FITS file was generated                  \n",
       "IRAF-TLM= '2017-03-14T14:11:51' / Time of last modification                     \n",
       "OBJECT  = 'SN-NGC-5643'        / Name of the object observed                    \n",
       "COMMENT                    DATA FORMAT                                          \n",
       "FORMAT  = 'DELACED '           / Data interlacing & coadding info               \n",
       "COMMENT              ARRAY CONTROLLER PARAMETERS                                \n",
       "ERASE   =                    1 / Number of CCD erase cycles before integration  \n",
       "READOUT = 'UL      '           / Readout mode used                              \n",
       "MPPMODE = 'OFF     '           / Multi-Pinned Phase mode on or off              \n",
       "CBBAGAIN=                    0 / Analog gain jumper setting on clock bias board \n",
       "PA_TAU  =            0.0000E+0 / Charge integrator time constant, seconds       \n",
       "PIXITIME=            9.9000E-6 / Pixel charge integration, seconds              \n",
       "GAINDL  =                   32 / Pixel charge integration, sequencer clocks     \n",
       "XAMP    =                    1 / Number of amplifiers along fast-readout axis   \n",
       "YAMP    =                    1 / Number of amplifiers along slow-readout axis   \n",
       "PIXXMIT                        / Number of pixels returned per ADC go           \n",
       "PIXOFFST                       / Valid pixel offset within ADC go               \n",
       "COMMENT                 OBSERVATION DESCRIPTION                                 \n",
       "IMAGETYP= 'OBJECT  '           / User entered imagetype                         \n",
       "TIMESYS = 'UTC     '           / Time system  (usually UTC)                     \n",
       "TIME-OBS= '06:15:18.832'       / UTC time at start of exposure                  \n",
       "DATE-OBS= '2017-03-14'         / UTC date at start of exposure                  \n",
       "JD      =        2457826.76063 / Julian Day Number at start of exposure         \n",
       "EXPTIME =                 15.0 / exposure time                                  \n",
       "DARKTIME=                16.20 / dark current integration time                  \n",
       "LEDFLASH=            0.0000E+0 / in lab system, seconds of LED flash            \n",
       "CCDXBIN =                    2 / Column binning on detector                     \n",
       "CCDYBIN =                    2 / Row binning on detector                        \n",
       "OVERSCNX=                   32 / Column overscan per amplifier                  \n",
       "OVERSCNY=                    0 / Row overscan                                   \n",
       "ERASE   =                    1 / Number of CCD erase cycles before integration  \n",
       "READOUT = 'UL      '           / Readout mode used                              \n",
       "MPPMODE = 'OFF     '           / Multi-Pinned Phase mode on or off              \n",
       "CCDSEC1 = '        '           / Coordinates of data from amplifier 1           \n",
       "CCDSEC2 = '        '           / Coordinates of data from amplifier 2           \n",
       "OVERSC1 = '        '           / Coordinates of column overscan, amp 1          \n",
       "OVERSC2 = '        '           / Coordinates of column overscan, amp 2          \n",
       "OVERSR1 = '        '           / Coordinates of row overscan, amp 1             \n",
       "OVERSR2 = '        '           / Coordinates of row overscan, amp 2             \n",
       "NCOADDS =                    1 / Number of coadded frames                       \n",
       "FILENAME= 'ccd170313.0077'     / User entered filename                          \n",
       "UNIQNAME= '170301F7.0ve'       / System unique filename for image               \n",
       "OBSERVER= 'F Cortes'           /                                                \n",
       "OWNER   = 'YNUS-16A-0001'      /                                                \n",
       "INSTRUME= 'ANDICAM-CCD'         / Instrument name                               \n",
       "DETECTOR= 'Fairchild 447'       / Detector name                                 \n",
       "OBSERVAT= 'CTIO    '            / Observatory name                              \n",
       "TELESCOP= 'ct13m   '            / Telescope name                                \n",
       "LATITUDE= '-30:09:54'           / Telescope Latitude  (degrees)                 \n",
       "LONGITUD= '+70:48:54'           / Telescope Longitude (degrees west)            \n",
       "ALTITIDE=                 2215 / Telescope Elevation (meters)                   \n",
       "COMMENT SN-N5643.VH2.obs                                                        \n",
       "COMMENT               INSTRUMENT CONFIGURATION                                  \n",
       "CCDFILT =                    6 / Visible Channel Filter Wheel position          \n",
       "CCDFLTID= 'V       '           / Visible Channel Filter ID                      \n",
       "IRFILT  =                    2 / IR Channel Filter Wheel position               \n",
       "TILT1   =                 1040 / Tip-Tilt Mirror Mechanism 1 position           \n",
       "TILT2   =                 1590 / Tip-Tilt Mirror Mechanism 2 position           \n",
       "TILT3   =                 1960 / Tip-Tilt Mirror Mechanism 3 position           \n",
       "FOCUS   =                 1530 / IR channel focus position                      \n",
       "COMMENT                   TELESCOPE DATA                                        \n",
       "TCSLINK = 'Enabled '           / TCS Link Status [Enabled|Disabled|Idle]        \n",
       "RA      = '14:32:40.36'        / Telescope Right Ascension [hhmmss.ss]          \n",
       "DEC     = '-44:10:34.1'        / Telescope Declination [ddmmss.s]               \n",
       "EQUINOX =             2000.000 / Equinox of RA and DEC                          \n",
       "ST      = '13:00:17'           / Local Sidereal Time [hhmmss.s]                 \n",
       "HA      = '-01:33:26'          / Hour Angle [hhmmss.s]                          \n",
       "SECZ    =                 1.09 / Airmass [Sec ZD]                               \n",
       "TELFOCUS=                   20 / Telescope focus                                \n",
       "TELTEMP =                   15 / Telescope temperature [degrees C]              \n",
       "IRFLTID = 'H       '           /                                                \n",
       "TCSLIMIT= 'None    '           /                                                \n",
       "TELMOVE = 'Idle    '           /                                                \n",
       "WCSDIM  =                    2                                                  \n",
       "LTM1_1  =                   1.                                                  \n",
       "LTM2_2  =                   1.                                                  \n",
       "WAT0_001= 'system=physical'                                                     \n",
       "WAT1_001= 'wtype=linear'                                                        \n",
       "WAT2_001= 'wtype=linear'                                                        \n",
       "TRIM    = 'Mar 14 10:11 Trim data section is [17:1040,3:1026]'                  \n",
       "OVERSCAN= 'Mar 14 10:11 Overscan section is [2:16,3:1026] with mean=188.8956'   \n",
       "ZEROCOR = 'Mar 14 10:11 Zero level correction image is ccd170313.bias.fits'     \n",
       "FLATCOR = 'Mar 14 10:11 Flat field image is ccd170313.domeV.fits with scale=140'\n",
       "CCDSEC  = '[17:1040,3:1026]'                                                    \n",
       "LTV1    =                 -16.                                                  \n",
       "LTV2    =                  -2.                                                  \n",
       "CCDPROC = 'Mar 14 10:11 CCD processing done'                                    \n",
       "                                                                                \n",
       "                                                                                \n",
       "                                                                                \n",
       "                                                                                \n",
       "                                                                                \n",
       "                                                                                \n",
       "                                                                                \n",
       "                                                                                \n",
       "                                                                                \n",
       "                                                                                \n",
       "                                                                                \n",
       "                                                                                \n",
       "                                                                                "
      ]
     },
     "execution_count": 37,
     "metadata": {},
     "output_type": "execute_result"
    }
   ],
   "source": [
    "header"
   ]
  },
  {
   "cell_type": "code",
   "execution_count": 38,
   "metadata": {
    "collapsed": false
   },
   "outputs": [
    {
     "name": "stdout",
     "output_type": "stream",
     "text": [
      "../../../Dropbox/LCRO_Images_Sem2_2016-17/Mar_14_SN_NGC5643_CTIO_astrometry\\rccd170313.0062.astrometry.fits\n",
      "../../../Dropbox/LCRO_Images_Sem2_2016-17/Mar_14_SN_NGC5643_CTIO_astrometry\\rccd170313.0063.astrometry.fits\n",
      "../../../Dropbox/LCRO_Images_Sem2_2016-17/Mar_14_SN_NGC5643_CTIO_astrometry\\rccd170313.0064.astrometry.fits\n",
      "../../../Dropbox/LCRO_Images_Sem2_2016-17/Mar_14_SN_NGC5643_CTIO_astrometry\\rccd170313.0065.astrometry.fits\n",
      "../../../Dropbox/LCRO_Images_Sem2_2016-17/Mar_14_SN_NGC5643_CTIO_astrometry\\rccd170313.0066.astrometry.fits\n",
      "../../../Dropbox/LCRO_Images_Sem2_2016-17/Mar_14_SN_NGC5643_CTIO_astrometry\\rccd170313.0067.astrometry.fits\n",
      "../../../Dropbox/LCRO_Images_Sem2_2016-17/Mar_14_SN_NGC5643_CTIO_astrometry\\rccd170313.0068.astrometry.fits\n",
      "../../../Dropbox/LCRO_Images_Sem2_2016-17/Mar_14_SN_NGC5643_CTIO_astrometry\\rccd170313.0069.astrometry.fits\n",
      "../../../Dropbox/LCRO_Images_Sem2_2016-17/Mar_14_SN_NGC5643_CTIO_astrometry\\rccd170313.0070.astrometry.fits\n",
      "../../../Dropbox/LCRO_Images_Sem2_2016-17/Mar_14_SN_NGC5643_CTIO_astrometry\\rccd170313.0071.astrometry.fits\n",
      "../../../Dropbox/LCRO_Images_Sem2_2016-17/Mar_14_SN_NGC5643_CTIO_astrometry\\rccd170313.0072.astrometry.fits\n",
      "../../../Dropbox/LCRO_Images_Sem2_2016-17/Mar_14_SN_NGC5643_CTIO_astrometry\\rccd170313.0074.astrometry.fits\n",
      "../../../Dropbox/LCRO_Images_Sem2_2016-17/Mar_14_SN_NGC5643_CTIO_astrometry\\rccd170313.0075.astrometry.fits\n",
      "../../../Dropbox/LCRO_Images_Sem2_2016-17/Mar_14_SN_NGC5643_CTIO_astrometry\\rccd170313.0076.astrometry.fits\n",
      "../../../Dropbox/LCRO_Images_Sem2_2016-17/Mar_14_SN_NGC5643_CTIO_astrometry\\rccd170313.0077.astrometry.fits\n"
     ]
    },
    {
     "ename": "TypeError",
     "evalue": "buffer is too small for requested array",
     "output_type": "error",
     "traceback": [
      "\u001b[1;31m---------------------------------------------------------------------------\u001b[0m",
      "\u001b[1;31mTypeError\u001b[0m                                 Traceback (most recent call last)",
      "\u001b[1;32m<ipython-input-38-62f066b9c2ac>\u001b[0m in \u001b[0;36m<module>\u001b[1;34m()\u001b[0m\n\u001b[0;32m      7\u001b[0m     \u001b[0mhdu_list\u001b[0m \u001b[1;33m=\u001b[0m \u001b[0mfits\u001b[0m\u001b[1;33m.\u001b[0m\u001b[0mopen\u001b[0m\u001b[1;33m(\u001b[0m\u001b[0mfile_name\u001b[0m\u001b[1;33m)\u001b[0m\u001b[1;33m\u001b[0m\u001b[0m\n\u001b[0;32m      8\u001b[0m     \u001b[0mheader\u001b[0m \u001b[1;33m=\u001b[0m \u001b[0mfits\u001b[0m\u001b[1;33m.\u001b[0m\u001b[0mgetheader\u001b[0m\u001b[1;33m(\u001b[0m\u001b[0mfile_name\u001b[0m\u001b[1;33m)\u001b[0m\u001b[1;33m\u001b[0m\u001b[0m\n\u001b[1;32m----> 9\u001b[1;33m     \u001b[0mimage_data\u001b[0m \u001b[1;33m=\u001b[0m \u001b[0mhdu_list\u001b[0m\u001b[1;33m[\u001b[0m\u001b[1;36m0\u001b[0m\u001b[1;33m]\u001b[0m\u001b[1;33m.\u001b[0m\u001b[0mdata\u001b[0m\u001b[1;33m\u001b[0m\u001b[0m\n\u001b[0m\u001b[0;32m     10\u001b[0m     \u001b[0mw\u001b[0m \u001b[1;33m=\u001b[0m \u001b[0mWCS\u001b[0m\u001b[1;33m(\u001b[0m\u001b[0mheader\u001b[0m\u001b[1;33m)\u001b[0m\u001b[1;33m\u001b[0m\u001b[0m\n\u001b[0;32m     11\u001b[0m     \u001b[0mhdu_list\u001b[0m\u001b[1;33m.\u001b[0m\u001b[0mclose\u001b[0m\u001b[1;33m(\u001b[0m\u001b[1;33m)\u001b[0m\u001b[1;33m\u001b[0m\u001b[0m\n",
      "\u001b[1;32mC:\\Users\\rpn3\\Anaconda2\\lib\\site-packages\\astropy\\utils\\decorators.pyc\u001b[0m in \u001b[0;36m__get__\u001b[1;34m(self, obj, owner)\u001b[0m\n\u001b[0;32m    513\u001b[0m             \u001b[1;32mreturn\u001b[0m \u001b[0mobj\u001b[0m\u001b[1;33m.\u001b[0m\u001b[0m__dict__\u001b[0m\u001b[1;33m[\u001b[0m\u001b[0mself\u001b[0m\u001b[1;33m.\u001b[0m\u001b[0m_key\u001b[0m\u001b[1;33m]\u001b[0m\u001b[1;33m\u001b[0m\u001b[0m\n\u001b[0;32m    514\u001b[0m         \u001b[1;32mexcept\u001b[0m \u001b[0mKeyError\u001b[0m\u001b[1;33m:\u001b[0m\u001b[1;33m\u001b[0m\u001b[0m\n\u001b[1;32m--> 515\u001b[1;33m             \u001b[0mval\u001b[0m \u001b[1;33m=\u001b[0m \u001b[0mself\u001b[0m\u001b[1;33m.\u001b[0m\u001b[0mfget\u001b[0m\u001b[1;33m(\u001b[0m\u001b[0mobj\u001b[0m\u001b[1;33m)\u001b[0m\u001b[1;33m\u001b[0m\u001b[0m\n\u001b[0m\u001b[0;32m    516\u001b[0m             \u001b[0mobj\u001b[0m\u001b[1;33m.\u001b[0m\u001b[0m__dict__\u001b[0m\u001b[1;33m[\u001b[0m\u001b[0mself\u001b[0m\u001b[1;33m.\u001b[0m\u001b[0m_key\u001b[0m\u001b[1;33m]\u001b[0m \u001b[1;33m=\u001b[0m \u001b[0mval\u001b[0m\u001b[1;33m\u001b[0m\u001b[0m\n\u001b[0;32m    517\u001b[0m             \u001b[1;32mreturn\u001b[0m \u001b[0mval\u001b[0m\u001b[1;33m\u001b[0m\u001b[0m\n",
      "\u001b[1;32mC:\\Users\\rpn3\\Anaconda2\\lib\\site-packages\\astropy\\io\\fits\\hdu\\image.pyc\u001b[0m in \u001b[0;36mdata\u001b[1;34m(self)\u001b[0m\n\u001b[0;32m    206\u001b[0m             \u001b[1;32mreturn\u001b[0m\u001b[1;33m\u001b[0m\u001b[0m\n\u001b[0;32m    207\u001b[0m \u001b[1;33m\u001b[0m\u001b[0m\n\u001b[1;32m--> 208\u001b[1;33m         \u001b[0mdata\u001b[0m \u001b[1;33m=\u001b[0m \u001b[0mself\u001b[0m\u001b[1;33m.\u001b[0m\u001b[0m_get_scaled_image_data\u001b[0m\u001b[1;33m(\u001b[0m\u001b[0mself\u001b[0m\u001b[1;33m.\u001b[0m\u001b[0m_data_offset\u001b[0m\u001b[1;33m,\u001b[0m \u001b[0mself\u001b[0m\u001b[1;33m.\u001b[0m\u001b[0mshape\u001b[0m\u001b[1;33m)\u001b[0m\u001b[1;33m\u001b[0m\u001b[0m\n\u001b[0m\u001b[0;32m    209\u001b[0m         \u001b[0mself\u001b[0m\u001b[1;33m.\u001b[0m\u001b[0m_update_header_scale_info\u001b[0m\u001b[1;33m(\u001b[0m\u001b[0mdata\u001b[0m\u001b[1;33m.\u001b[0m\u001b[0mdtype\u001b[0m\u001b[1;33m)\u001b[0m\u001b[1;33m\u001b[0m\u001b[0m\n\u001b[0;32m    210\u001b[0m \u001b[1;33m\u001b[0m\u001b[0m\n",
      "\u001b[1;32mC:\\Users\\rpn3\\Anaconda2\\lib\\site-packages\\astropy\\io\\fits\\hdu\\image.pyc\u001b[0m in \u001b[0;36m_get_scaled_image_data\u001b[1;34m(self, offset, shape)\u001b[0m\n\u001b[0;32m    619\u001b[0m         \u001b[0mcode\u001b[0m \u001b[1;33m=\u001b[0m \u001b[0mBITPIX2DTYPE\u001b[0m\u001b[1;33m[\u001b[0m\u001b[0mself\u001b[0m\u001b[1;33m.\u001b[0m\u001b[0m_orig_bitpix\u001b[0m\u001b[1;33m]\u001b[0m\u001b[1;33m\u001b[0m\u001b[0m\n\u001b[0;32m    620\u001b[0m \u001b[1;33m\u001b[0m\u001b[0m\n\u001b[1;32m--> 621\u001b[1;33m         \u001b[0mraw_data\u001b[0m \u001b[1;33m=\u001b[0m \u001b[0mself\u001b[0m\u001b[1;33m.\u001b[0m\u001b[0m_get_raw_data\u001b[0m\u001b[1;33m(\u001b[0m\u001b[0mshape\u001b[0m\u001b[1;33m,\u001b[0m \u001b[0mcode\u001b[0m\u001b[1;33m,\u001b[0m \u001b[0moffset\u001b[0m\u001b[1;33m)\u001b[0m\u001b[1;33m\u001b[0m\u001b[0m\n\u001b[0m\u001b[0;32m    622\u001b[0m         \u001b[0mraw_data\u001b[0m\u001b[1;33m.\u001b[0m\u001b[0mdtype\u001b[0m \u001b[1;33m=\u001b[0m \u001b[0mraw_data\u001b[0m\u001b[1;33m.\u001b[0m\u001b[0mdtype\u001b[0m\u001b[1;33m.\u001b[0m\u001b[0mnewbyteorder\u001b[0m\u001b[1;33m(\u001b[0m\u001b[1;34m'>'\u001b[0m\u001b[1;33m)\u001b[0m\u001b[1;33m\u001b[0m\u001b[0m\n\u001b[0;32m    623\u001b[0m \u001b[1;33m\u001b[0m\u001b[0m\n",
      "\u001b[1;32mC:\\Users\\rpn3\\Anaconda2\\lib\\site-packages\\astropy\\io\\fits\\hdu\\base.pyc\u001b[0m in \u001b[0;36m_get_raw_data\u001b[1;34m(self, shape, code, offset)\u001b[0m\n\u001b[0;32m    566\u001b[0m                               offset=offset)\n\u001b[0;32m    567\u001b[0m         \u001b[1;32melif\u001b[0m \u001b[0mself\u001b[0m\u001b[1;33m.\u001b[0m\u001b[0m_file\u001b[0m\u001b[1;33m:\u001b[0m\u001b[1;33m\u001b[0m\u001b[0m\n\u001b[1;32m--> 568\u001b[1;33m             \u001b[1;32mreturn\u001b[0m \u001b[0mself\u001b[0m\u001b[1;33m.\u001b[0m\u001b[0m_file\u001b[0m\u001b[1;33m.\u001b[0m\u001b[0mreadarray\u001b[0m\u001b[1;33m(\u001b[0m\u001b[0moffset\u001b[0m\u001b[1;33m=\u001b[0m\u001b[0moffset\u001b[0m\u001b[1;33m,\u001b[0m \u001b[0mdtype\u001b[0m\u001b[1;33m=\u001b[0m\u001b[0mcode\u001b[0m\u001b[1;33m,\u001b[0m \u001b[0mshape\u001b[0m\u001b[1;33m=\u001b[0m\u001b[0mshape\u001b[0m\u001b[1;33m)\u001b[0m\u001b[1;33m\u001b[0m\u001b[0m\n\u001b[0m\u001b[0;32m    569\u001b[0m         \u001b[1;32melse\u001b[0m\u001b[1;33m:\u001b[0m\u001b[1;33m\u001b[0m\u001b[0m\n\u001b[0;32m    570\u001b[0m             \u001b[1;32mreturn\u001b[0m \u001b[0mNone\u001b[0m\u001b[1;33m\u001b[0m\u001b[0m\n",
      "\u001b[1;32mC:\\Users\\rpn3\\Anaconda2\\lib\\site-packages\\astropy\\io\\fits\\file.pyc\u001b[0m in \u001b[0;36mreadarray\u001b[1;34m(self, size, offset, dtype, shape)\u001b[0m\n\u001b[0;32m    272\u001b[0m \u001b[1;33m\u001b[0m\u001b[0m\n\u001b[0;32m    273\u001b[0m             return np.ndarray(shape=shape, dtype=dtype, offset=offset,\n\u001b[1;32m--> 274\u001b[1;33m                               buffer=self._mmap)\n\u001b[0m\u001b[0;32m    275\u001b[0m         \u001b[1;32melse\u001b[0m\u001b[1;33m:\u001b[0m\u001b[1;33m\u001b[0m\u001b[0m\n\u001b[0;32m    276\u001b[0m             \u001b[0mcount\u001b[0m \u001b[1;33m=\u001b[0m \u001b[0mreduce\u001b[0m\u001b[1;33m(\u001b[0m\u001b[1;32mlambda\u001b[0m \u001b[0mx\u001b[0m\u001b[1;33m,\u001b[0m \u001b[0my\u001b[0m\u001b[1;33m:\u001b[0m \u001b[0mx\u001b[0m \u001b[1;33m*\u001b[0m \u001b[0my\u001b[0m\u001b[1;33m,\u001b[0m \u001b[0mshape\u001b[0m\u001b[1;33m)\u001b[0m\u001b[1;33m\u001b[0m\u001b[0m\n",
      "\u001b[1;31mTypeError\u001b[0m: buffer is too small for requested array"
     ]
    }
   ],
   "source": [
    "file_list =  glob.glob(\"../../../Dropbox/LCRO_Images_Sem2_2016-17/Mar_14_SN_NGC5643_CTIO_astrometry/*.fits\")\n",
    "\n",
    "inst_mag, jdate, exptime, filter_type = [], [] , [], []\n",
    "\n",
    "for file_name in file_list:\n",
    "    print file_name\n",
    "    hdu_list = fits.open(file_name)\n",
    "    header = fits.getheader(file_name)\n",
    "    image_data = hdu_list[0].data\n",
    "    w = WCS(header)\n",
    "    hdu_list.close()\n",
    "    \n",
    "    phot_table = aperture_photometry(image_data, apers, wcs=w)\n",
    "    bkg_mean = phot_table['aperture_sum_1'] / annulus_apertures.to_pixel(w).area()\n",
    "    bkg_sum = bkg_mean * apertures.to_pixel(w).area()\n",
    "    final_sum = phot_table['aperture_sum_0'] - bkg_sum\n",
    "\n",
    "    inst_mag.append(-2.5*np.log10(final_sum[0]/header['EXPTIME']))\n",
    "    jdate.append(header['JD'])\n",
    "    exptime.append(header['EXPTIME'])\n",
    "    filter_type.append(header['CCDFLTID'])"
   ]
  },
  {
   "cell_type": "code",
   "execution_count": 40,
   "metadata": {
    "collapsed": false,
    "scrolled": true
   },
   "outputs": [
    {
     "data": {
      "text/plain": [
       "<matplotlib.collections.PathCollection at 0xa9df8d0>"
      ]
     },
     "execution_count": 40,
     "metadata": {},
     "output_type": "execute_result"
    },
    {
     "data": {
      "image/png": "[encoded data removed]",
      "text/plain": [
       "<matplotlib.figure.Figure at 0xadb27f0>"
      ]
     },
     "metadata": {},
     "output_type": "display_data"
    }
   ],
   "source": [
    "ctio_fil_list = ['B','I', 'R','V']\n",
    "ctio_zero_points = []\n",
    "\n",
    "plt.scatter(jdate, inst_mag, color=['blue' if x=='B' else 'black' if x=='I' else 'red' if x=='R' else 'violet' for x in filter_type])"
   ]
  },
  {
   "cell_type": "code",
   "execution_count": null,
   "metadata": {
    "collapsed": true
   },
   "outputs": [],
   "source": []
  }
 ],
 "metadata": {
  "kernelspec": {
   "display_name": "Python 2",
   "language": "python",
   "name": "python2"
  },
  "language_info": {
   "codemirror_mode": {
    "name": "ipython",
    "version": 2
   },
   "file_extension": ".py",
   "mimetype": "text/x-python",
   "name": "python",
   "nbconvert_exporter": "python",
   "pygments_lexer": "ipython2",
   "version": "2.7.11"
  }
 },
 "nbformat": 4,
 "nbformat_minor": 0
}
